{
 "cells": [
  {
   "cell_type": "markdown",
   "metadata": {},
   "source": [
    "# Analisis dan Prediksi Harga Buka Saham IBM rentang waktu 1 Januari 2006 - 1 januari 2018"
   ]
  },
  {
   "cell_type": "code",
   "execution_count": 1,
   "metadata": {},
   "outputs": [],
   "source": [
    "import pandas as pd\n",
    "import numpy as np\n",
    "import matplotlib.pyplot as plt"
   ]
  },
  {
   "cell_type": "markdown",
   "metadata": {},
   "source": [
    "Melakukan importing beberapa libarary yang digunakan  \n",
    "pandas (dataframe management)  \n",
    "numpy (advanced mathematic)  \n",
    "matplotlib (plotting data)  "
   ]
  },
  {
   "cell_type": "code",
   "execution_count": 2,
   "metadata": {},
   "outputs": [],
   "source": [
    "df = pd.read_csv(\"IBM.csv\")"
   ]
  },
  {
   "cell_type": "markdown",
   "metadata": {},
   "source": [
    "membuka dataset"
   ]
  },
  {
   "cell_type": "code",
   "execution_count": 3,
   "metadata": {},
   "outputs": [
    {
     "name": "stdout",
     "output_type": "stream",
     "text": [
      "      Open  Low\n",
      "2913   NaN  NaN\n"
     ]
    }
   ],
   "source": [
    "null_columns=df.columns[df.isnull().any()]\n",
    "print(df[df[\"Open\"].isnull()][null_columns])"
   ]
  },
  {
   "cell_type": "markdown",
   "metadata": {},
   "source": [
    "mencari NaN pada dataset"
   ]
  },
  {
   "cell_type": "code",
   "execution_count": 4,
   "metadata": {},
   "outputs": [],
   "source": [
    "df = df.drop([2913])\n",
    "df.reset_index(drop=True,inplace=True)"
   ]
  },
  {
   "cell_type": "markdown",
   "metadata": {},
   "source": [
    "melakukan dropping pada NaN Value pada dataset"
   ]
  },
  {
   "cell_type": "code",
   "execution_count": 5,
   "metadata": {},
   "outputs": [
    {
     "data": {
      "text/html": [
       "<div>\n",
       "<style scoped>\n",
       "    .dataframe tbody tr th:only-of-type {\n",
       "        vertical-align: middle;\n",
       "    }\n",
       "\n",
       "    .dataframe tbody tr th {\n",
       "        vertical-align: top;\n",
       "    }\n",
       "\n",
       "    .dataframe thead th {\n",
       "        text-align: right;\n",
       "    }\n",
       "</style>\n",
       "<table border=\"1\" class=\"dataframe\">\n",
       "  <thead>\n",
       "    <tr style=\"text-align: right;\">\n",
       "      <th></th>\n",
       "      <th>Date</th>\n",
       "      <th>Open</th>\n",
       "      <th>High</th>\n",
       "      <th>Low</th>\n",
       "      <th>Close</th>\n",
       "      <th>Volume</th>\n",
       "      <th>Name</th>\n",
       "    </tr>\n",
       "  </thead>\n",
       "  <tbody>\n",
       "    <tr>\n",
       "      <th>0</th>\n",
       "      <td>2006-01-03</td>\n",
       "      <td>82.45</td>\n",
       "      <td>82.55</td>\n",
       "      <td>80.81</td>\n",
       "      <td>82.06</td>\n",
       "      <td>11715200</td>\n",
       "      <td>IBM</td>\n",
       "    </tr>\n",
       "    <tr>\n",
       "      <th>1</th>\n",
       "      <td>2006-01-04</td>\n",
       "      <td>82.20</td>\n",
       "      <td>82.50</td>\n",
       "      <td>81.33</td>\n",
       "      <td>81.95</td>\n",
       "      <td>9840600</td>\n",
       "      <td>IBM</td>\n",
       "    </tr>\n",
       "    <tr>\n",
       "      <th>2</th>\n",
       "      <td>2006-01-05</td>\n",
       "      <td>81.40</td>\n",
       "      <td>82.90</td>\n",
       "      <td>81.00</td>\n",
       "      <td>82.50</td>\n",
       "      <td>7213500</td>\n",
       "      <td>IBM</td>\n",
       "    </tr>\n",
       "    <tr>\n",
       "      <th>3</th>\n",
       "      <td>2006-01-06</td>\n",
       "      <td>83.95</td>\n",
       "      <td>85.03</td>\n",
       "      <td>83.41</td>\n",
       "      <td>84.95</td>\n",
       "      <td>8197400</td>\n",
       "      <td>IBM</td>\n",
       "    </tr>\n",
       "    <tr>\n",
       "      <th>4</th>\n",
       "      <td>2006-01-09</td>\n",
       "      <td>84.10</td>\n",
       "      <td>84.25</td>\n",
       "      <td>83.38</td>\n",
       "      <td>83.73</td>\n",
       "      <td>6858200</td>\n",
       "      <td>IBM</td>\n",
       "    </tr>\n",
       "  </tbody>\n",
       "</table>\n",
       "</div>"
      ],
      "text/plain": [
       "         Date   Open   High    Low  Close    Volume Name\n",
       "0  2006-01-03  82.45  82.55  80.81  82.06  11715200  IBM\n",
       "1  2006-01-04  82.20  82.50  81.33  81.95   9840600  IBM\n",
       "2  2006-01-05  81.40  82.90  81.00  82.50   7213500  IBM\n",
       "3  2006-01-06  83.95  85.03  83.41  84.95   8197400  IBM\n",
       "4  2006-01-09  84.10  84.25  83.38  83.73   6858200  IBM"
      ]
     },
     "execution_count": 5,
     "metadata": {},
     "output_type": "execute_result"
    }
   ],
   "source": [
    "df.head()"
   ]
  },
  {
   "cell_type": "markdown",
   "metadata": {},
   "source": [
    "melihat kondisi dataset"
   ]
  },
  {
   "cell_type": "code",
   "execution_count": 6,
   "metadata": {},
   "outputs": [],
   "source": [
    "dataPakai = df.iloc[:,1:2].values"
   ]
  },
  {
   "cell_type": "markdown",
   "metadata": {},
   "source": [
    "Melakukan Pengambilan Kolom Nilai harga Buka Saham IBM"
   ]
  },
  {
   "cell_type": "code",
   "execution_count": 7,
   "metadata": {},
   "outputs": [],
   "source": [
    "dataTrain = dataPakai[:len(dataPakai)-50,0]"
   ]
  },
  {
   "cell_type": "markdown",
   "metadata": {},
   "source": [
    "Membagi 2 data yang digunakan untuk training dan test"
   ]
  },
  {
   "cell_type": "code",
   "execution_count": 10,
   "metadata": {},
   "outputs": [],
   "source": [
    "from sklearn.preprocessing import MinMaxScaler\n",
    "sc = MinMaxScaler(feature_range=(0,1))\n",
    "dataTrain_scaled = dataTrain.reshape(-1,1)\n",
    "dataTrain_scaled = sc.fit_transform(dataTrain_scaled)"
   ]
  },
  {
   "cell_type": "markdown",
   "metadata": {},
   "source": [
    "Melakukan Scaling 0 - 1 pada dataset"
   ]
  },
  {
   "cell_type": "code",
   "execution_count": 11,
   "metadata": {},
   "outputs": [],
   "source": [
    "x_train = []\n",
    "y_train = []\n",
    "for i in range(120,len(dataTrain_scaled)):\n",
    "    x_train.append(dataTrain_scaled[i-120:i,0])\n",
    "    y_train.append(dataTrain_scaled[i,0])"
   ]
  },
  {
   "cell_type": "markdown",
   "metadata": {},
   "source": [
    "Membagi dataTrain yang sudah di scaling menjadi Input Time Series, dan Output. Pada program ini, output akan dianalisa menggunakan 120 data sebelum output."
   ]
  },
  {
   "cell_type": "code",
   "execution_count": 12,
   "metadata": {},
   "outputs": [],
   "source": [
    "x_train,y_train = np.array(x_train),np.array(y_train)"
   ]
  },
  {
   "cell_type": "markdown",
   "metadata": {},
   "source": [
    "mengubah list x_train dan y_train menjadi numpy array"
   ]
  },
  {
   "cell_type": "code",
   "execution_count": 13,
   "metadata": {},
   "outputs": [],
   "source": [
    "x_train = np.reshape(x_train,(x_train.shape[0],x_train.shape[1],1))"
   ]
  },
  {
   "cell_type": "markdown",
   "metadata": {},
   "source": [
    "melakukan reshaping pada x_train menjadi 3 dimensi yang akan digunakan sebagai input dari RNN"
   ]
  },
  {
   "cell_type": "code",
   "execution_count": 14,
   "metadata": {},
   "outputs": [],
   "source": [
    "from tensorflow.keras.models import Sequential\n",
    "from tensorflow.keras.layers import Dense\n",
    "from tensorflow.keras.layers import LSTM\n",
    "from tensorflow.keras.layers import Dropout"
   ]
  },
  {
   "cell_type": "markdown",
   "metadata": {},
   "source": [
    "Melakukan importing untuk library keras yang akan digunakan dalam pembuatan architectur RNN  \n",
    "Dense digunakan untuk membuat neuron  \n",
    "LSTM digunakan untuk membuat neuron Long short-term memory  \n",
    "Droput digunakan untuk mengurangi overfitting pada model  "
   ]
  },
  {
   "cell_type": "code",
   "execution_count": 15,
   "metadata": {},
   "outputs": [],
   "source": [
    "regressor = Sequential()\n",
    "regressor.add(LSTM(units = 50, return_sequences=True,input_shape = (x_train.shape[1],1)))\n",
    "regressor.add(Dropout(0.2))\n",
    "regressor.add(LSTM(units = 50, return_sequences=True))\n",
    "regressor.add(Dropout(0.2))\n",
    "regressor.add(LSTM(units = 50, return_sequences=True))\n",
    "regressor.add(Dropout(0.2))\n",
    "regressor.add(LSTM(units = 50, return_sequences=True))\n",
    "regressor.add(Dropout(0.2))\n",
    "regressor.add(LSTM(units = 50))\n",
    "regressor.add(Dropout(0.2))\n",
    "regressor.add(Dense(units=1))"
   ]
  },
  {
   "cell_type": "markdown",
   "metadata": {},
   "source": [
    "membuat architectur RNN dengan LSTM 4 Stack pada masing-masing stack terdapat 50 Neurons. pada tahap ini digunakan output sebanyak 1 neuron karena hasil yang diinginkan adalah nilai regresi. Pada architecture ini akan di lakukan dropout sebanyak 20% dari 50 neurons pada stack, sehingga dengan demikian nilai dari 10 neurons acak akan diabaikan dalam melakukan back propagation. "
   ]
  },
  {
   "cell_type": "code",
   "execution_count": 16,
   "metadata": {},
   "outputs": [],
   "source": [
    "regressor.compile(optimizer=\"adam\",loss=\"mean_squared_error\")"
   ]
  },
  {
   "cell_type": "markdown",
   "metadata": {},
   "source": [
    "melakukan compile pada model RNN"
   ]
  },
  {
   "cell_type": "code",
   "execution_count": 17,
   "metadata": {},
   "outputs": [
    {
     "name": "stdout",
     "output_type": "stream",
     "text": [
      "Train on 2849 samples\n",
      "Epoch 1/100\n",
      "2849/2849 [==============================] - 23s 8ms/sample - loss: 0.0308\n",
      "Epoch 2/100\n",
      "2849/2849 [==============================] - 4s 2ms/sample - loss: 0.0055 1s \n",
      "Epoch 3/100\n",
      "2849/2849 [==============================] - 4s 1ms/sample - loss: 0.0051\n",
      "Epoch 4/100\n",
      "2849/2849 [==============================] - 4s 1ms/sample - loss: 0.0083\n",
      "Epoch 5/100\n",
      "2849/2849 [==============================] - 4s 1ms/sample - loss: 0.0045: 1s - loss: 0. - ETA: 0s - lo\n",
      "Epoch 6/100\n",
      "2849/2849 [==============================] - 4s 2ms/sample - loss: 0.0048\n",
      "Epoch 7/100\n",
      "2849/2849 [==============================] - 4s 1ms/sample - loss: 0.0039\n",
      "Epoch 8/100\n",
      "2849/2849 [==============================] - 4s 1ms/sample - loss: 0.0039 0s - loss: 0.0\n",
      "Epoch 9/100\n",
      "2849/2849 [==============================] - 4s 1ms/sample - loss: 0.0038 0s - loss\n",
      "Epoch 10/100\n",
      "2849/2849 [==============================] - 4s 1ms/sample - loss: 0.0034\n",
      "Epoch 11/100\n",
      "2849/2849 [==============================] - 4s 1ms/sample - loss: 0.0034\n",
      "Epoch 12/100\n",
      "2849/2849 [==============================] - 4s 1ms/sample - loss: 0.0034 2s -  - ET\n",
      "Epoch 13/100\n",
      "2849/2849 [==============================] - 4s 1ms/sample - loss: 0.0032 1s - loss: 0.00 - ET\n",
      "Epoch 14/100\n",
      "2849/2849 [==============================] - 4s 2ms/sample - loss: 0.0036 ET\n",
      "Epoch 15/100\n",
      "2849/2849 [==============================] - 4s 1ms/sample - loss: 0.0035\n",
      "Epoch 16/100\n",
      "2849/2849 [==============================] - 4s 1ms/sample - loss: 0.0027\n",
      "Epoch 17/100\n",
      "2849/2849 [==============================] - 4s 1ms/sample - loss: 0.0027\n",
      "Epoch 18/100\n",
      "2849/2849 [==============================] - 4s 2ms/sample - loss: 0.0027 1 - ETA: 0s - loss: 0.002\n",
      "Epoch 19/100\n",
      "2849/2849 [==============================] - 4s 1ms/sample - loss: 0.0026\n",
      "Epoch 20/100\n",
      "2849/2849 [==============================] - 4s 1ms/sample - loss: 0.0025\n",
      "Epoch 21/100\n",
      "2849/2849 [==============================] - 4s 2ms/sample - loss: 0.0024\n",
      "Epoch 22/100\n",
      "2849/2849 [==============================] - 4s 2ms/sample - loss: 0.0025 0s - loss\n",
      "Epoch 23/100\n",
      "2849/2849 [==============================] - 4s 1ms/sample - loss: 0.0024 1s - loss: 0. - ETA:\n",
      "Epoch 24/100\n",
      "2849/2849 [==============================] - 4s 2ms/sample - loss: 0.0023\n",
      "Epoch 25/100\n",
      "2849/2849 [==============================] - 4s 2ms/sample - loss: 0.0022\n",
      "Epoch 26/100\n",
      "2849/2849 [==============================] - 4s 2ms/sample - loss: 0.0021\n",
      "Epoch 27/100\n",
      "2849/2849 [==============================] - 4s 1ms/sample - loss: 0.0022\n",
      "Epoch 28/100\n",
      "2849/2849 [==============================] - 4s 1ms/sample - loss: 0.0020ETA: 1s -  - ETA: 0s - loss: 0.00 - ETA: 0s - loss: 0.00\n",
      "Epoch 29/100\n",
      "2849/2849 [==============================] - 4s 1ms/sample - loss: 0.0020\n",
      "Epoch 30/100\n",
      "2849/2849 [==============================] - 4s 1ms/sample - loss: 0.0022 1s  - ETA: 0s - los\n",
      "Epoch 31/100\n",
      "2849/2849 [==============================] - 4s 1ms/sample - loss: 0.0019 0s - loss\n",
      "Epoch 32/100\n",
      "2849/2849 [==============================] - 4s 1ms/sample - loss: 0.0021 3s - los - ETA: 2s - loss: 0.00 - ETA: 2s - l - ETA: 1s - l - ETA: 0s - loss: 0.\n",
      "Epoch 33/100\n",
      "2849/2849 [==============================] - 4s 2ms/sample - loss: 0.0020\n",
      "Epoch 34/100\n",
      "2849/2849 [==============================] - 4s 1ms/sample - loss: 0.0021 0s - los\n",
      "Epoch 35/100\n",
      "2849/2849 [==============================] - 4s 1ms/sample - loss: 0.0017\n",
      "Epoch 36/100\n",
      "2849/2849 [==============================] - 4s 1ms/sample - loss: 0.0017 2s  - ETA: 1s\n",
      "Epoch 37/100\n",
      "2849/2849 [==============================] - 4s 1ms/sample - loss: 0.0026 E\n",
      "Epoch 38/100\n",
      "2849/2849 [==============================] - 4s 1ms/sample - loss: 0.0018 0s - loss:\n",
      "Epoch 39/100\n",
      "2849/2849 [==============================] - 4s 2ms/sample - loss: 0.0017\n",
      "Epoch 40/100\n",
      "2849/2849 [==============================] - 4s 1ms/sample - loss: 0.0019 \n",
      "Epoch 41/100\n",
      "2849/2849 [==============================] - 4s 2ms/sample - loss: 0.0019\n",
      "Epoch 42/100\n",
      "2849/2849 [==============================] - 4s 2ms/sample - loss: 0.0016\n",
      "Epoch 43/100\n",
      "2849/2849 [==============================] - 4s 1ms/sample - loss: 0.0017\n",
      "Epoch 44/100\n",
      "2849/2849 [==============================] - 4s 2ms/sample - loss: 0.0015\n",
      "Epoch 45/100\n",
      "2849/2849 [==============================] - 4s 2ms/sample - loss: 0.0015 1s - loss:  - ETA: 0s - l\n",
      "Epoch 46/100\n",
      "2849/2849 [==============================] - 4s 2ms/sample - loss: 0.0014\n",
      "Epoch 47/100\n",
      "2849/2849 [==============================] - 4s 1ms/sample - loss: 0.0014\n",
      "Epoch 48/100\n",
      "2849/2849 [==============================] - 4s 1ms/sample - loss: 0.0014\n",
      "Epoch 49/100\n",
      "2849/2849 [==============================] - 4s 1ms/sample - loss: 0.0014\n",
      "Epoch 50/100\n",
      "2849/2849 [==============================] - 4s 1ms/sample - loss: 0.0013 3s - ETA: - ETA: 0s - loss: 0.0\n",
      "Epoch 51/100\n",
      "2849/2849 [==============================] - 4s 1ms/sample - loss: 0.0012\n",
      "Epoch 52/100\n",
      "2849/2849 [==============================] - 4s 2ms/sample - loss: 0.0014\n",
      "Epoch 53/100\n",
      "2849/2849 [==============================] - 4s 1ms/sample - loss: 0.0013 1s -  - ETA: 0s - l\n",
      "Epoch 54/100\n",
      "2849/2849 [==============================] - 4s 1ms/sample - loss: 0.0014 2s - loss: 0.\n",
      "Epoch 55/100\n",
      "2849/2849 [==============================] - 4s 2ms/sample - loss: 0.0013\n",
      "Epoch 56/100\n",
      "2849/2849 [==============================] - 4s 1ms/sample - loss: 0.0015\n",
      "Epoch 57/100\n",
      "2849/2849 [==============================] - 4s 1ms/sample - loss: 0.0012\n",
      "Epoch 58/100\n",
      "2849/2849 [==============================] - 4s 1ms/sample - loss: 0.0012\n",
      "Epoch 59/100\n",
      "2849/2849 [==============================] - 4s 2ms/sample - loss: 0.0012\n",
      "Epoch 60/100\n",
      "2849/2849 [==============================] - 4s 1ms/sample - loss: 0.0012\n",
      "Epoch 61/100\n",
      "2849/2849 [==============================] - 4s 1ms/sample - loss: 0.0013 3s -  - ETA: 2s - loss\n",
      "Epoch 62/100\n",
      "2849/2849 [==============================] - 4s 1ms/sample - loss: 0.0012\n",
      "Epoch 63/100\n",
      "2849/2849 [==============================] - 4s 2ms/sample - loss: 0.0012  - ETA: 1\n",
      "Epoch 64/100\n",
      "2849/2849 [==============================] - 4s 1ms/sample - loss: 0.0011 0s - loss: 0.\n",
      "Epoch 65/100\n",
      "2849/2849 [==============================] - 4s 2ms/sample - loss: 0.0011\n",
      "Epoch 66/100\n",
      "2849/2849 [==============================] - 4s 2ms/sample - loss: 0.0011 0s - los\n",
      "Epoch 67/100\n",
      "2849/2849 [==============================] - 4s 2ms/sample - loss: 0.0011\n",
      "Epoch 68/100\n",
      "2849/2849 [==============================] - 4s 1ms/sample - loss: 9.6276e-04 0s - loss: 9.4\n",
      "Epoch 69/100\n",
      "2849/2849 [==============================] - 4s 1ms/sample - loss: 0.0010ETA: 1s - loss: 9.455 - ETA: 1s -\n",
      "Epoch 70/100\n",
      "2849/2849 [==============================] - 4s 1ms/sample - loss: 0.0010\n",
      "Epoch 71/100\n",
      "2849/2849 [==============================] - 4s 2ms/sample - loss: 0.0011\n",
      "Epoch 72/100\n",
      "2849/2849 [==============================] - 4s 1ms/sample - loss: 0.0010- ETA: 1s \n",
      "Epoch 73/100\n",
      "2849/2849 [==============================] - 4s 1ms/sample - loss: 0.0010 1s - loss: 0 - ETA: 0s - l\n",
      "Epoch 74/100\n",
      "2849/2849 [==============================] - 4s 2ms/sample - loss: 0.0011ETA:\n",
      "Epoch 75/100\n",
      "2849/2849 [==============================] - 4s 2ms/sample - loss: 0.0011\n",
      "Epoch 76/100\n",
      "2849/2849 [==============================] - 4s 1ms/sample - loss: 9.5170e-04\n",
      "Epoch 77/100\n",
      "2849/2849 [==============================] - 4s 1ms/sample - loss: 0.0014\n",
      "Epoch 78/100\n",
      "2849/2849 [==============================] - 4s 2ms/sample - loss: 0.0011\n",
      "Epoch 79/100\n",
      "2849/2849 [==============================] - 4s 1ms/sample - loss: 9.7820e-04\n",
      "Epoch 80/100\n",
      "2849/2849 [==============================] - 4s 1ms/sample - loss: 9.3555e-04\n",
      "Epoch 81/100\n",
      "2849/2849 [==============================] - ETA: 0s - loss: 9.4876e-0 - 4s 1ms/sample - loss: 9.4956e-04\n",
      "Epoch 82/100\n",
      "2849/2849 [==============================] - 4s 2ms/sample - loss: 0.0011\n",
      "Epoch 83/100\n",
      "2849/2849 [==============================] - 4s 1ms/sample - loss: 9.7085e-04\n",
      "Epoch 84/100\n",
      "2849/2849 [==============================] - 4s 1ms/sample - loss: 9.5008e-04 2s - ETA: 0s - loss: 9.5518\n",
      "Epoch 85/100\n",
      "2849/2849 [==============================] - 4s 2ms/sample - loss: 9.5739e-04 1s \n",
      "Epoch 86/100\n"
     ]
    },
    {
     "name": "stdout",
     "output_type": "stream",
     "text": [
      "2849/2849 [==============================] - 4s 1ms/sample - loss: 9.1409e-04 2s - loss: 9.833 - E\n",
      "Epoch 87/100\n",
      "2849/2849 [==============================] - 4s 1ms/sample - loss: 8.5220e-04 2s - loss: 8 - ET\n",
      "Epoch 88/100\n",
      "2849/2849 [==============================] - 4s 1ms/sample - loss: 9.7139e-04 1s - loss: 9.50 - ETA: 0s - loss:\n",
      "Epoch 89/100\n",
      "2849/2849 [==============================] - 4s 1ms/sample - loss: 8.2225e-04\n",
      "Epoch 90/100\n",
      "2849/2849 [==============================] - 4s 1ms/sample - loss: 9.0150e-04 1s - loss: 8.8568e - ETA: 1s - loss: 8.8 - ETA: 0s - loss:\n",
      "Epoch 91/100\n",
      "2849/2849 [==============================] - 4s 1ms/sample - loss: 9.6238e-04\n",
      "Epoch 92/100\n",
      "2849/2849 [==============================] - 4s 1ms/sample - loss: 0.0013- ETA: 1\n",
      "Epoch 93/100\n",
      "2849/2849 [==============================] - 4s 2ms/sample - loss: 0.0010\n",
      "Epoch 94/100\n",
      "2849/2849 [==============================] - 4s 1ms/sample - loss: 9.4178e-04- - ETA: 2s - loss - ETA: 1\n",
      "Epoch 95/100\n",
      "2849/2849 [==============================] - 4s 1ms/sample - loss: 8.5947e-04\n",
      "Epoch 96/100\n",
      "2849/2849 [==============================] - 4s 1ms/sample - loss: 8.2200e-04\n",
      "Epoch 97/100\n",
      "2849/2849 [==============================] - 4s 1ms/sample - loss: 9.2810e-04\n",
      "Epoch 98/100\n",
      "2849/2849 [==============================] - 4s 1ms/sample - loss: 8.1634e-04 0s - loss: 8.0779e- - ETA: 0s - loss: 8.0\n",
      "Epoch 99/100\n",
      "2849/2849 [==============================] - 4s 1ms/sample - loss: 8.0599e-04 0s - loss: 7.8578 - ETA: 0s - loss: 8.0069\n",
      "Epoch 100/100\n",
      "2849/2849 [==============================] - 4s 1ms/sample - loss: 7.8865e-04\n"
     ]
    },
    {
     "data": {
      "text/plain": [
       "<tensorflow.python.keras.callbacks.History at 0x2ac0dd2feb8>"
      ]
     },
     "execution_count": 17,
     "metadata": {},
     "output_type": "execute_result"
    }
   ],
   "source": [
    "regressor.fit(x_train,y_train,epochs=100,batch_size=32)"
   ]
  },
  {
   "cell_type": "markdown",
   "metadata": {},
   "source": [
    "melakukan training pada data menggunakan model yang sudah dibuat"
   ]
  },
  {
   "cell_type": "code",
   "execution_count": 42,
   "metadata": {},
   "outputs": [],
   "source": [
    "dataTest = dataPakai[len(dataPakai)-50-120:,0]\n",
    "dataTest1 = dataPakai[len(dataPakai)-50:,0]\n",
    "dataTest = dataTest.reshape(-1,1)\n",
    "dataTest = sc.transform(dataTest)"
   ]
  },
  {
   "cell_type": "markdown",
   "metadata": {},
   "source": [
    "mempersiapkan data Testing untuk mengecek model yang telah dibuat"
   ]
  },
  {
   "cell_type": "code",
   "execution_count": 43,
   "metadata": {},
   "outputs": [],
   "source": [
    "x_test=[]\n",
    "for i in range(120,170):\n",
    "    x_test.append(dataTest[i-120:i,0])"
   ]
  },
  {
   "cell_type": "markdown",
   "metadata": {},
   "source": [
    "membuat list untuk data time series yang akan diprediksi, time series sebanyak 120 data (120 hari)"
   ]
  },
  {
   "cell_type": "code",
   "execution_count": 44,
   "metadata": {},
   "outputs": [],
   "source": [
    "x_test = np.array(x_test)\n",
    "x_test = np.reshape(x_test,(x_test.shape[0],x_test.shape[1],1))"
   ]
  },
  {
   "cell_type": "markdown",
   "metadata": {},
   "source": [
    "melakukan reshaping pada x_test dalam bentuk 3 Dimensi array sesuai dengan input pada model"
   ]
  },
  {
   "cell_type": "code",
   "execution_count": 45,
   "metadata": {},
   "outputs": [],
   "source": [
    "prediksi = regressor.predict(x_test)\n",
    "prediksi = sc.inverse_transform(prediksi)"
   ]
  },
  {
   "cell_type": "markdown",
   "metadata": {},
   "source": [
    "melakukan prediksi data test menggunakan model RNN yang sudah dibuat"
   ]
  },
  {
   "cell_type": "code",
   "execution_count": 46,
   "metadata": {},
   "outputs": [
    {
     "data": {
      "text/plain": [
       "[]"
      ]
     },
     "execution_count": 46,
     "metadata": {},
     "output_type": "execute_result"
    },
    {
     "data": {
      "image/png": "[encoded data removed]",
      "text/plain": [
       "<Figure size 432x288 with 1 Axes>"
      ]
     },
     "metadata": {
      "needs_background": "light"
     },
     "output_type": "display_data"
    }
   ],
   "source": [
    "plt.plot(prediksi,\"r\",label=\"Nilai Prediksi\")\n",
    "plt.plot(dataTest1,\"b\",label=\"Nilai Real\")\n",
    "plt.legend()\n",
    "plt.title(\"plotting nilai prediksi dan real pada 50 harga buka saham terakhir IBM Periode 1 Januari 2006 - 1 Januari 2018\")\n",
    "plt.plot()"
   ]
  }
 ],
 "metadata": {
  "kernelspec": {
   "display_name": "Python [conda env:Python37] *",
   "language": "python",
   "name": "conda-env-Python37-py"
  },
  "language_info": {
   "codemirror_mode": {
    "name": "ipython",
    "version": 3
   },
   "file_extension": ".py",
   "mimetype": "text/x-python",
   "name": "python",
   "nbconvert_exporter": "python",
   "pygments_lexer": "ipython3",
   "version": "3.7.0"
  }
 },
 "nbformat": 4,
 "nbformat_minor": 2
}
